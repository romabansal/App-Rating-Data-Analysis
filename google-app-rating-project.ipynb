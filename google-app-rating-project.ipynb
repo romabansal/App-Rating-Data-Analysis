{
 "cells": [
  {
   "cell_type": "code",
   "execution_count": 1,
   "id": "334754da",
   "metadata": {
    "_cell_guid": "b1076dfc-b9ad-4769-8c92-a6c4dae69d19",
    "_uuid": "8f2839f25d086af736a60e9eeb907d3b93b6e0e5",
    "execution": {
     "iopub.execute_input": "2023-03-19T17:08:18.124872Z",
     "iopub.status.busy": "2023-03-19T17:08:18.124474Z",
     "iopub.status.idle": "2023-03-19T17:08:18.143504Z",
     "shell.execute_reply": "2023-03-19T17:08:18.142589Z"
    },
    "papermill": {
     "duration": 0.028988,
     "end_time": "2023-03-19T17:08:18.146552",
     "exception": false,
     "start_time": "2023-03-19T17:08:18.117564",
     "status": "completed"
    },
    "tags": []
   },
   "outputs": [
    {
     "name": "stdout",
     "output_type": "stream",
     "text": [
      "/kaggle/input/google-play-store-apps/googleplaystore.csv\n",
      "/kaggle/input/google-play-store-apps/license.txt\n",
      "/kaggle/input/google-play-store-apps/googleplaystore_user_reviews.csv\n"
     ]
    }
   ],
   "source": [
    "# This Python 3 environment comes with many helpful analytics libraries installed\n",
    "# It is defined by the kaggle/python Docker image: https://github.com/kaggle/docker-python\n",
    "# For example, here's several helpful packages to load\n",
    "\n",
    "import numpy as np # linear algebra\n",
    "import pandas as pd # data processing, CSV file I/O (e.g. pd.read_csv)\n",
    "\n",
    "# Input data files are available in the read-only \"../input/\" directory\n",
    "# For example, running this (by clicking run or pressing Shift+Enter) will list all files under the input directory\n",
    "\n",
    "import os\n",
    "for dirname, _, filenames in os.walk('/kaggle/input'):\n",
    "    for filename in filenames:\n",
    "        print(os.path.join(dirname, filename))\n",
    "\n",
    "# You can write up to 20GB to the current directory (/kaggle/working/) that gets preserved as output when you create a version using \"Save & Run All\" \n",
    "# You can also write temporary files to /kaggle/temp/, but they won't be saved outside of the current session"
   ]
  },
  {
   "cell_type": "code",
   "execution_count": 2,
   "id": "487b8097",
   "metadata": {
    "execution": {
     "iopub.execute_input": "2023-03-19T17:08:18.157663Z",
     "iopub.status.busy": "2023-03-19T17:08:18.157274Z",
     "iopub.status.idle": "2023-03-19T17:08:18.239786Z",
     "shell.execute_reply": "2023-03-19T17:08:18.238641Z"
    },
    "papermill": {
     "duration": 0.090996,
     "end_time": "2023-03-19T17:08:18.242600",
     "exception": false,
     "start_time": "2023-03-19T17:08:18.151604",
     "status": "completed"
    },
    "tags": []
   },
   "outputs": [],
   "source": [
    "# Load the dataset \n",
    "df = pd.read_csv(\"/kaggle/input/google-play-store-apps/googleplaystore.csv\") \n"
   ]
  },
  {
   "cell_type": "code",
   "execution_count": 3,
   "id": "b5b96a6e",
   "metadata": {
    "execution": {
     "iopub.execute_input": "2023-03-19T17:08:18.253589Z",
     "iopub.status.busy": "2023-03-19T17:08:18.252839Z",
     "iopub.status.idle": "2023-03-19T17:08:18.273892Z",
     "shell.execute_reply": "2023-03-19T17:08:18.273027Z"
    },
    "papermill": {
     "duration": 0.029627,
     "end_time": "2023-03-19T17:08:18.276818",
     "exception": false,
     "start_time": "2023-03-19T17:08:18.247191",
     "status": "completed"
    },
    "tags": []
   },
   "outputs": [
    {
     "name": "stdout",
     "output_type": "stream",
     "text": [
      "                                                 App        Category  Rating  \\\n",
      "0     Photo Editor & Candy Camera & Grid & ScrapBook  ART_AND_DESIGN     4.1   \n",
      "1                                Coloring book moana  ART_AND_DESIGN     3.9   \n",
      "2  U Launcher Lite – FREE Live Cool Themes, Hide ...  ART_AND_DESIGN     4.7   \n",
      "3                              Sketch - Draw & Paint  ART_AND_DESIGN     4.5   \n",
      "4              Pixel Draw - Number Art Coloring Book  ART_AND_DESIGN     4.3   \n",
      "\n",
      "  Reviews  Size     Installs  Type Price Content Rating  \\\n",
      "0     159   19M      10,000+  Free     0       Everyone   \n",
      "1     967   14M     500,000+  Free     0       Everyone   \n",
      "2   87510  8.7M   5,000,000+  Free     0       Everyone   \n",
      "3  215644   25M  50,000,000+  Free     0           Teen   \n",
      "4     967  2.8M     100,000+  Free     0       Everyone   \n",
      "\n",
      "                      Genres      Last Updated         Current Ver  \\\n",
      "0               Art & Design   January 7, 2018               1.0.0   \n",
      "1  Art & Design;Pretend Play  January 15, 2018               2.0.0   \n",
      "2               Art & Design    August 1, 2018               1.2.4   \n",
      "3               Art & Design      June 8, 2018  Varies with device   \n",
      "4    Art & Design;Creativity     June 20, 2018                 1.1   \n",
      "\n",
      "    Android Ver  \n",
      "0  4.0.3 and up  \n",
      "1  4.0.3 and up  \n",
      "2  4.0.3 and up  \n",
      "3    4.2 and up  \n",
      "4    4.4 and up  \n"
     ]
    }
   ],
   "source": [
    "# Print the first five rows \n",
    "print(df.head()) \n"
   ]
  },
  {
   "cell_type": "code",
   "execution_count": 4,
   "id": "5b4739ee",
   "metadata": {
    "execution": {
     "iopub.execute_input": "2023-03-19T17:08:18.286867Z",
     "iopub.status.busy": "2023-03-19T17:08:18.286236Z",
     "iopub.status.idle": "2023-03-19T17:08:18.308624Z",
     "shell.execute_reply": "2023-03-19T17:08:18.307009Z"
    },
    "papermill": {
     "duration": 0.030401,
     "end_time": "2023-03-19T17:08:18.311403",
     "exception": false,
     "start_time": "2023-03-19T17:08:18.281002",
     "status": "completed"
    },
    "tags": []
   },
   "outputs": [],
   "source": [
    "# Drop duplicates \n",
    "df.drop_duplicates(subset=\"App\", inplace=True) \n"
   ]
  },
  {
   "cell_type": "code",
   "execution_count": 5,
   "id": "cb66808b",
   "metadata": {
    "execution": {
     "iopub.execute_input": "2023-03-19T17:08:18.322154Z",
     "iopub.status.busy": "2023-03-19T17:08:18.321078Z",
     "iopub.status.idle": "2023-03-19T17:08:18.336064Z",
     "shell.execute_reply": "2023-03-19T17:08:18.335015Z"
    },
    "papermill": {
     "duration": 0.023029,
     "end_time": "2023-03-19T17:08:18.338649",
     "exception": false,
     "start_time": "2023-03-19T17:08:18.315620",
     "status": "completed"
    },
    "tags": []
   },
   "outputs": [],
   "source": [
    "# Drop rows with missing values \n",
    "df.dropna(inplace=True) \n"
   ]
  },
  {
   "cell_type": "code",
   "execution_count": 6,
   "id": "245fe4ff",
   "metadata": {
    "execution": {
     "iopub.execute_input": "2023-03-19T17:08:18.349194Z",
     "iopub.status.busy": "2023-03-19T17:08:18.348487Z",
     "iopub.status.idle": "2023-03-19T17:08:18.364471Z",
     "shell.execute_reply": "2023-03-19T17:08:18.363064Z"
    },
    "papermill": {
     "duration": 0.024688,
     "end_time": "2023-03-19T17:08:18.367562",
     "exception": false,
     "start_time": "2023-03-19T17:08:18.342874",
     "status": "completed"
    },
    "tags": []
   },
   "outputs": [],
   "source": [
    "# Calculate the average rating and number of downloads for each app category \n",
    "category_stats = df.groupby(\"Category\").agg({\"Rating\": \"mean\", \"Installs\": \"sum\"}) \n",
    "\n",
    "category_stats.rename(columns={\"Rating\": \"Average Rating\", \"Installs\": \"Total Downloads\"}, inplace=True) \n"
   ]
  },
  {
   "cell_type": "code",
   "execution_count": 7,
   "id": "129f893c",
   "metadata": {
    "execution": {
     "iopub.execute_input": "2023-03-19T17:08:18.377357Z",
     "iopub.status.busy": "2023-03-19T17:08:18.376939Z",
     "iopub.status.idle": "2023-03-19T17:08:18.385768Z",
     "shell.execute_reply": "2023-03-19T17:08:18.384423Z"
    },
    "papermill": {
     "duration": 0.018588,
     "end_time": "2023-03-19T17:08:18.390321",
     "exception": false,
     "start_time": "2023-03-19T17:08:18.371733",
     "status": "completed"
    },
    "tags": []
   },
   "outputs": [
    {
     "name": "stdout",
     "output_type": "stream",
     "text": [
      "                     Average Rating  \\\n",
      "Category                              \n",
      "ART_AND_DESIGN             4.376667   \n",
      "AUTO_AND_VEHICLES          4.190411   \n",
      "BEAUTY                     4.278571   \n",
      "BOOKS_AND_REFERENCE        4.344970   \n",
      "BUSINESS                   4.098479   \n",
      "COMICS                     4.181481   \n",
      "COMMUNICATION              4.121484   \n",
      "DATING                     3.970149   \n",
      "EDUCATION                  4.364407   \n",
      "ENTERTAINMENT              4.135294   \n",
      "EVENTS                     4.435556   \n",
      "FAMILY                     4.179776   \n",
      "FINANCE                    4.115563   \n",
      "FOOD_AND_DRINK             4.172340   \n",
      "GAME                       4.247368   \n",
      "HEALTH_AND_FITNESS         4.243033   \n",
      "HOUSE_AND_HOME             4.150000   \n",
      "LIBRARIES_AND_DEMO         4.179365   \n",
      "LIFESTYLE                  4.093355   \n",
      "MAPS_AND_NAVIGATION        4.036441   \n",
      "MEDICAL                    4.166552   \n",
      "NEWS_AND_MAGAZINES         4.121569   \n",
      "PARENTING                  4.300000   \n",
      "PERSONALIZATION            4.331419   \n",
      "PHOTOGRAPHY                4.157414   \n",
      "PRODUCTIVITY               4.183389   \n",
      "SHOPPING                   4.230000   \n",
      "SOCIAL                     4.247291   \n",
      "SPORTS                     4.216154   \n",
      "TOOLS                      4.039331   \n",
      "TRAVEL_AND_LOCAL           4.069519   \n",
      "VIDEO_PLAYERS              4.044595   \n",
      "WEATHER                    4.243056   \n",
      "\n",
      "                                                       Total Downloads  \n",
      "Category                                                                \n",
      "ART_AND_DESIGN       10,000+500,000+5,000,000+50,000,000+100,000+50...  \n",
      "AUTO_AND_VEHICLES    100,000+1,000,000+100,000+1,000,000+100,000+10...  \n",
      "BEAUTY               500,000+1,000,000+100,000+500,000+1,000,000+50...  \n",
      "BOOKS_AND_REFERENCE  100,000,000+50,000+100,000+10,000,000+100,000,...  \n",
      "BUSINESS             10,000,000+50,000,000+10,000,000+5,000,000+1,0...  \n",
      "COMICS               10,000,000+500,000+1,000,000+500,000+50,000+50...  \n",
      "COMMUNICATION        1,000,000,000+1,000,000,000+10,000,000+1,000,0...  \n",
      "DATING               10,000+1,000+100+10,000,000+10,000,000+10,000,...  \n",
      "EDUCATION            100,000,000+10,000,000+100,000+5,000,000+10,00...  \n",
      "ENTERTAINMENT        100,000,000+1,000,000+1,000,000+10,000,000+50,...  \n",
      "EVENTS               100,000+5,000,000+500,000+50,000+5,000,000+1,0...  \n",
      "FAMILY               1,000,000+5,000,000+5,000,000+1,000,000+1,000,...  \n",
      "FINANCE              10,000,000+1,000,000+5,000,000+5,000,000+5,000...  \n",
      "FOOD_AND_DRINK       10,000,000+10,000,000+1,000,000+100,000+1,000,...  \n",
      "GAME                 100,000,000+1,000,000,000+500,000,000+10,000,0...  \n",
      "HEALTH_AND_FITNESS   10,000,000+500,000+5,000,000+1,000,000+10,000,...  \n",
      "HOUSE_AND_HOME       10,000,000+100,000+1,000,000+10,000,000+5,000,...  \n",
      "LIBRARIES_AND_DEMO   50,000+10,000+100,000+100,000+5,000,000+50,000...  \n",
      "LIFESTYLE            5,000,000+10,000,000+100,000+10,000,000+5,000,...  \n",
      "MAPS_AND_NAVIGATION  100,000,000+5,000,000+10,000,000+10,000,000+5,...  \n",
      "MEDICAL              100,000+10,000+10,000+10,000+10,000+10,000+5,0...  \n",
      "NEWS_AND_MAGAZINES   10,000,000+10,000,000+1,000,000+1,000,000+10,0...  \n",
      "PARENTING            10,000+5,000,000+1,000,000+100,000+10,000+1,00...  \n",
      "PERSONALIZATION      50,000,000+1,000,000+100,000,000+5,000,000+100...  \n",
      "PHOTOGRAPHY          1,000,000+5,000,000+1,000,000+500,000+50,000+1...  \n",
      "PRODUCTIVITY         500,000,000+10,000,000+100,000,000+10,000,000+...  \n",
      "SHOPPING             10,000,000+100,000,000+10,000,000+10,000,000+1...  \n",
      "SOCIAL               1,000,000,000+1,000,000,000+500,000,000+10,000...  \n",
      "SPORTS               10,000,000+100,000+10,000,000+5,000,000+50,000...  \n",
      "TOOLS                10,000,000+1,000,000,000+500,000,000+10,000,00...  \n",
      "TRAVEL_AND_LOCAL     10,000,000+50,000,000+5,000,000+1,000,000+500,...  \n",
      "VIDEO_PLAYERS        1,000,000,000+1,000,000+10,000,000+1,000,000+1...  \n",
      "WEATHER              50,000,000+1,000,000+50,000,000+10,000+10,000,...  \n"
     ]
    }
   ],
   "source": [
    "# Print the results \n",
    "print(category_stats) \n"
   ]
  },
  {
   "cell_type": "code",
   "execution_count": 8,
   "id": "c17c67ff",
   "metadata": {
    "execution": {
     "iopub.execute_input": "2023-03-19T17:08:18.401560Z",
     "iopub.status.busy": "2023-03-19T17:08:18.400806Z",
     "iopub.status.idle": "2023-03-19T17:08:18.406201Z",
     "shell.execute_reply": "2023-03-19T17:08:18.405017Z"
    },
    "papermill": {
     "duration": 0.013139,
     "end_time": "2023-03-19T17:08:18.408505",
     "exception": false,
     "start_time": "2023-03-19T17:08:18.395366",
     "status": "completed"
    },
    "tags": []
   },
   "outputs": [],
   "source": [
    "import matplotlib.pyplot as plt "
   ]
  },
  {
   "cell_type": "code",
   "execution_count": 9,
   "id": "f1fc3713",
   "metadata": {
    "execution": {
     "iopub.execute_input": "2023-03-19T17:08:18.418574Z",
     "iopub.status.busy": "2023-03-19T17:08:18.418210Z",
     "iopub.status.idle": "2023-03-19T17:08:18.770875Z",
     "shell.execute_reply": "2023-03-19T17:08:18.769572Z"
    },
    "papermill": {
     "duration": 0.361553,
     "end_time": "2023-03-19T17:08:18.774319",
     "exception": false,
     "start_time": "2023-03-19T17:08:18.412766",
     "status": "completed"
    },
    "tags": []
   },
   "outputs": [
    {
     "data": {
      "text/plain": [
       "array([[<AxesSubplot:title={'center':'Rating'}>]], dtype=object)"
      ]
     },
     "execution_count": 9,
     "metadata": {},
     "output_type": "execute_result"
    },
    {
     "data": {
      "image/png": "[encoded data removed]",
      "text/plain": [
       "<Figure size 640x480 with 1 Axes>"
      ]
     },
     "metadata": {},
     "output_type": "display_data"
    }
   ],
   "source": [
    "# Create a histogram of the app ratings \n",
    "df.hist(column=\"Rating\") \n"
   ]
  },
  {
   "cell_type": "code",
   "execution_count": 10,
   "id": "33a7a04e",
   "metadata": {
    "execution": {
     "iopub.execute_input": "2023-03-19T17:08:18.786048Z",
     "iopub.status.busy": "2023-03-19T17:08:18.785600Z",
     "iopub.status.idle": "2023-03-19T17:08:19.153696Z",
     "shell.execute_reply": "2023-03-19T17:08:19.152551Z"
    },
    "papermill": {
     "duration": 0.377271,
     "end_time": "2023-03-19T17:08:19.156503",
     "exception": false,
     "start_time": "2023-03-19T17:08:18.779232",
     "status": "completed"
    },
    "tags": []
   },
   "outputs": [
    {
     "data": {
      "text/plain": [
       "Text(0, 0.5, 'Rating')"
      ]
     },
     "execution_count": 10,
     "metadata": {},
     "output_type": "execute_result"
    },
    {
     "data": {
      "image/png": "[encoded data removed]",
      "text/plain": [
       "<Figure size 640x480 with 1 Axes>"
      ]
     },
     "metadata": {},
     "output_type": "display_data"
    }
   ],
   "source": [
    "# Create a scatter plot of the app ratings versus the number of downloads \n",
    "plt.scatter(df[\"Installs\"], df[\"Rating\"]) \n",
    "\n",
    "plt.xlabel(\"Number of Downloads\") \n",
    "\n",
    "plt.ylabel(\"Rating\") \n"
   ]
  },
  {
   "cell_type": "markdown",
   "id": "3c54ec3c",
   "metadata": {
    "papermill": {
     "duration": 0.005431,
     "end_time": "2023-03-19T17:08:19.167953",
     "exception": false,
     "start_time": "2023-03-19T17:08:19.162522",
     "status": "completed"
    },
    "tags": []
   },
   "source": [
    "Conclusion: Based on our analysis, we can draw several conclusions. For example, we can see that the average rating is highest for apps in the \"Events\" and \"Education\" categories, while the total number of downloads is highest for apps in the \"Communication\" and \"Social\" categories. We can also see that there is a positive correlation between the number of downloads and the app rating, although the relationship is not linear.\n",
    "Overall, this project demonstrates how to use Python and Pandas to analyze app rating data and draw meaningful insights. With further analysis and refinement, this data could be used to optimize app development and marketing strategies.\n"
   ]
  },
  {
   "cell_type": "code",
   "execution_count": null,
   "id": "0743cc05",
   "metadata": {
    "papermill": {
     "duration": 0.005513,
     "end_time": "2023-03-19T17:08:19.179115",
     "exception": false,
     "start_time": "2023-03-19T17:08:19.173602",
     "status": "completed"
    },
    "tags": []
   },
   "outputs": [],
   "source": []
  },
  {
   "cell_type": "code",
   "execution_count": null,
   "id": "30792349",
   "metadata": {
    "papermill": {
     "duration": 0.005286,
     "end_time": "2023-03-19T17:08:19.190081",
     "exception": false,
     "start_time": "2023-03-19T17:08:19.184795",
     "status": "completed"
    },
    "tags": []
   },
   "outputs": [],
   "source": []
  },
  {
   "cell_type": "code",
   "execution_count": null,
   "id": "2807473b",
   "metadata": {
    "papermill": {
     "duration": 0.005381,
     "end_time": "2023-03-19T17:08:19.201080",
     "exception": false,
     "start_time": "2023-03-19T17:08:19.195699",
     "status": "completed"
    },
    "tags": []
   },
   "outputs": [],
   "source": []
  }
 ],
 "metadata": {
  "kernelspec": {
   "display_name": "Python 3",
   "language": "python",
   "name": "python3"
  },
  "language_info": {
   "codemirror_mode": {
    "name": "ipython",
    "version": 3
   },
   "file_extension": ".py",
   "mimetype": "text/x-python",
   "name": "python",
   "nbconvert_exporter": "python",
   "pygments_lexer": "ipython3",
   "version": "3.7.12"
  },
  "papermill": {
   "default_parameters": {},
   "duration": 12.105458,
   "end_time": "2023-03-19T17:08:19.828726",
   "environment_variables": {},
   "exception": null,
   "input_path": "__notebook__.ipynb",
   "output_path": "__notebook__.ipynb",
   "parameters": {},
   "start_time": "2023-03-19T17:08:07.723268",
   "version": "2.4.0"
  }
 },
 "nbformat": 4,
 "nbformat_minor": 5
}
